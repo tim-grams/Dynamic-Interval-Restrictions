{
 "cells": [
  {
   "cell_type": "markdown",
   "metadata": {},
   "source": [
    "# Wrapper Debugging"
   ]
  },
  {
   "cell_type": "markdown",
   "metadata": {},
   "source": [
    "Debug and play around with wrappers in the oil extraction environment"
   ]
  },
  {
   "cell_type": "code",
   "execution_count": 2,
   "metadata": {},
   "outputs": [],
   "source": [
    "import os\n",
    "import sys\n",
    "sys.path.append(os.path.dirname((os.path.abspath(\"\"))))\n",
    "\n",
    "import numpy as np\n",
    "\n",
    "from src.envs.oil_extraction import OilField\n",
    "from src.utils.utils import point_from_gaussian_process\n",
    "from src.wrapper.random_replacement import RandomReplacementWrapper\n",
    "from src.wrapper.euclidean_projection import EuclideanProjectionWrapper\n",
    "from src.wrapper.discretization import DiscretizationWrapper\n",
    "from src.wrapper.continuous_masking import ContinuousMaskingWrapper\n",
    "from src.wrapper.parametrized_discretization import ParametrizedDiscretizationWrapper\n",
    "from src.wrapper.hierarchical import HierarchicalWrapper"
   ]
  },
  {
   "cell_type": "code",
   "execution_count": 2,
   "metadata": {},
   "outputs": [],
   "source": [
    "from src.utils.utils import sample_from_gaussian_process\n",
    "from sklearn.gaussian_process.kernels import RBF\n",
    "import numpy as np\n",
    "\n",
    "x_sample, y_sample = sample_from_gaussian_process(0.0, 40.0, 600, RBF(3), 18)\n",
    "\n",
    "env_config = {\n",
    "    'LENGTH': 40.0,\n",
    "    'LENGTH_PUMP': 4.0,\n",
    "    'LENGTH_PUMP_STD': 1.0,\n",
    "    'LENGTH_PUMP_MIN': 1.0,\n",
    "    'LENGTH_PUMP_MAX': 6.0,\n",
    "    'STEPS_PER_EPISODE': 100,\n",
    "    'EFFECTIVENESS_MEAN': 1.0,\n",
    "    'EFFECTIVENESS_STD': 0.3,\n",
    "    'EFFECTIVENESS_MIN': 0.5,\n",
    "    'EFFECTIVENESS_MAX': 2.0,\n",
    "    'DURATION_MEAN': 3,\n",
    "    'DURATION_MIN': 1,\n",
    "    'DURATION_MAX': 5,\n",
    "    'GAUSSIAN_NOISE': 0.2,\n",
    "    'valid_action_reward': lambda x: np.interp(x, x_sample, y_sample.T[0]),\n",
    "    'invalid_action_penalty': lambda x: -10 * x,\n",
    "    'END_ON_COLLISION': False\n",
    "}"
   ]
  },
  {
   "cell_type": "markdown",
   "metadata": {},
   "source": [
    "### Random Replacement"
   ]
  },
  {
   "cell_type": "code",
   "execution_count": 3,
   "metadata": {},
   "outputs": [
    {
     "data": {
      "text/plain": [
       "{'observation': {'effectiveness': array([1.2475559], dtype=float32),\n",
       "  'duration': 5,\n",
       "  'length': array([3.7147079], dtype=float32)},\n",
       " 'allowed_actions': array([[ 1.8573539, 38.142647 ]], dtype=float32)}"
      ]
     },
     "execution_count": 3,
     "metadata": {},
     "output_type": "execute_result"
    }
   ],
   "source": [
    "env = RandomReplacementWrapper(OilField(env_config))\n",
    "env.reset()"
   ]
  },
  {
   "cell_type": "code",
   "execution_count": 4,
   "metadata": {},
   "outputs": [
    {
     "data": {
      "text/plain": [
       "({'observation': {'effectiveness': array([0.7881487], dtype=float32),\n",
       "   'duration': 4,\n",
       "   'length': array([4.6994157], dtype=float32)},\n",
       "  'allowed_actions': array([[ 9.207062, 37.65029 ]], dtype=float32)},\n",
       " -1.8503860215094703,\n",
       " False,\n",
       " {'fraction_allowed_actions': 0.9071323,\n",
       "  'allowed_interval_length': 36.285294,\n",
       "  'number_intervals': 1,\n",
       "  'interval_avg': 36.28529357910156,\n",
       "  'interval_min': 36.285294,\n",
       "  'interval_max': 36.285294,\n",
       "  'interval_variance': 0.0,\n",
       "  'Executed': array([5.], dtype=float32),\n",
       "  'invalid': False})"
      ]
     },
     "execution_count": 4,
     "metadata": {},
     "output_type": "execute_result"
    }
   ],
   "source": [
    "env.step(np.array([5.0], dtype=np.float32))"
   ]
  },
  {
   "cell_type": "code",
   "execution_count": 5,
   "metadata": {},
   "outputs": [
    {
     "data": {
      "text/plain": [
       "({'observation': {'effectiveness': array([0.88949645], dtype=float32),\n",
       "   'duration': 3,\n",
       "   'length': array([5.2511244], dtype=float32)},\n",
       "  'allowed_actions': array([[16.055637, 37.37444 ]], dtype=float32)},\n",
       " -2.4930010216514273,\n",
       " False,\n",
       " {'fraction_allowed_actions': 0.71108073,\n",
       "  'allowed_interval_length': 28.44323,\n",
       "  'number_intervals': 1,\n",
       "  'interval_avg': 28.44322967529297,\n",
       "  'interval_min': 28.44323,\n",
       "  'interval_max': 28.44323,\n",
       "  'interval_variance': 0.0,\n",
       "  'Executed': array([11.080368], dtype=float32),\n",
       "  'invalid': True})"
      ]
     },
     "execution_count": 5,
     "metadata": {},
     "output_type": "execute_result"
    }
   ],
   "source": [
    "env.step(np.array([6.0], dtype=np.float32))"
   ]
  },
  {
   "cell_type": "markdown",
   "metadata": {},
   "source": [
    "### Euclidean Projection"
   ]
  },
  {
   "cell_type": "code",
   "execution_count": 7,
   "metadata": {},
   "outputs": [
    {
     "data": {
      "text/plain": [
       "{'observation': {'effectiveness': array([0.763445], dtype=float32),\n",
       "  'duration': 3,\n",
       "  'length': array([4.317965], dtype=float32)},\n",
       " 'allowed_actions': array([[ 2.1589825, 37.84102  ]], dtype=float32)}"
      ]
     },
     "execution_count": 7,
     "metadata": {},
     "output_type": "execute_result"
    }
   ],
   "source": [
    "env = EuclideanProjectionWrapper(OilField(env_config))\n",
    "env.reset()"
   ]
  },
  {
   "cell_type": "code",
   "execution_count": 8,
   "metadata": {},
   "outputs": [
    {
     "data": {
      "text/plain": [
       "({'observation': {'effectiveness': array([0.7028257], dtype=float32),\n",
       "   'duration': 1,\n",
       "   'length': array([3.2217672], dtype=float32)},\n",
       "  'allowed_actions': array([[ 8.769866, 38.38912 ]], dtype=float32)},\n",
       " -1.2091880357407405,\n",
       " False,\n",
       " {'fraction_allowed_actions': 0.8920509,\n",
       "  'allowed_interval_length': 35.682037,\n",
       "  'number_intervals': 1,\n",
       "  'interval_avg': 35.682037353515625,\n",
       "  'interval_min': 35.682037,\n",
       "  'interval_max': 35.682037,\n",
       "  'interval_variance': 0.0,\n",
       "  'Executed': array([5.], dtype=float32),\n",
       "  'invalid': False})"
      ]
     },
     "execution_count": 8,
     "metadata": {},
     "output_type": "execute_result"
    }
   ],
   "source": [
    "env.step(np.array([5.0], dtype=np.float32))"
   ]
  },
  {
   "cell_type": "code",
   "execution_count": 9,
   "metadata": {},
   "outputs": [
    {
     "data": {
      "text/plain": [
       "({'observation': {'effectiveness': array([1.3312049], dtype=float32),\n",
       "   'duration': 5,\n",
       "   'length': array([3.3980525], dtype=float32)},\n",
       "  'allowed_actions': array([[ 8.858008, 38.300972]], dtype=float32)},\n",
       " -7.287262704380737e-07,\n",
       " False,\n",
       " {'fraction_allowed_actions': 0.74048126,\n",
       "  'allowed_interval_length': 29.619251,\n",
       "  'number_intervals': 1,\n",
       "  'interval_avg': 29.619251251220703,\n",
       "  'interval_min': 29.619251,\n",
       "  'interval_max': 29.619251,\n",
       "  'interval_variance': 0.0,\n",
       "  'Executed': array([8.769866], dtype=float32),\n",
       "  'invalid': True})"
      ]
     },
     "execution_count": 9,
     "metadata": {},
     "output_type": "execute_result"
    }
   ],
   "source": [
    "env.step(np.array([6.0], dtype=np.float32))"
   ]
  },
  {
   "cell_type": "markdown",
   "metadata": {},
   "source": [
    "### Discretization"
   ]
  },
  {
   "cell_type": "code",
   "execution_count": 10,
   "metadata": {},
   "outputs": [],
   "source": [
    "env = DiscretizationWrapper(OilField(env_config), 9)"
   ]
  },
  {
   "cell_type": "code",
   "execution_count": 11,
   "metadata": {},
   "outputs": [
    {
     "data": {
      "text/plain": [
       "array([ 0.,  5., 10., 15., 20., 25., 30., 35., 40.])"
      ]
     },
     "execution_count": 11,
     "metadata": {},
     "output_type": "execute_result"
    }
   ],
   "source": [
    "env.discrete_actions"
   ]
  },
  {
   "cell_type": "code",
   "execution_count": 18,
   "metadata": {},
   "outputs": [
    {
     "data": {
      "text/plain": [
       "{'observation': {'effectiveness': array([1.1463504], dtype=float32),\n",
       "  'duration': 5,\n",
       "  'length': array([3.3532012], dtype=float32)},\n",
       " 'allowed_actions': array([0., 1., 1., 1., 1., 1., 1., 1., 0.])}"
      ]
     },
     "execution_count": 18,
     "metadata": {},
     "output_type": "execute_result"
    }
   ],
   "source": [
    "env.reset()"
   ]
  },
  {
   "cell_type": "code",
   "execution_count": 19,
   "metadata": {},
   "outputs": [
    {
     "data": {
      "text/plain": [
       "({'observation': {'effectiveness': array([1.2515774], dtype=float32),\n",
       "   'duration': 2,\n",
       "   'length': array([4.2507544], dtype=float32)},\n",
       "  'allowed_actions': array([0., 1., 1., 0., 1., 1., 1., 1., 0.])},\n",
       " -0.5668426757953623,\n",
       " False,\n",
       " {'fraction_allowed_actions': 0.91616994,\n",
       "  'allowed_interval_length': 36.646797,\n",
       "  'number_intervals': 1,\n",
       "  'interval_avg': 36.64679718017578,\n",
       "  'interval_min': 36.646797,\n",
       "  'interval_max': 36.646797,\n",
       "  'interval_variance': 0.0,\n",
       "  'invalid': False,\n",
       "  'atomic_action': [15.0]})"
      ]
     },
     "execution_count": 19,
     "metadata": {},
     "output_type": "execute_result"
    }
   ],
   "source": [
    "env.step(3)"
   ]
  },
  {
   "cell_type": "code",
   "execution_count": 20,
   "metadata": {},
   "outputs": [
    {
     "data": {
      "text/plain": [
       "({'observation': {'effectiveness': array([1.0555031], dtype=float32),\n",
       "   'duration': 1,\n",
       "   'length': array([4.2611084], dtype=float32)},\n",
       "  'allowed_actions': array([0., 1., 1., 0., 0., 1., 1., 1., 0.])},\n",
       " -1.5146670967368172,\n",
       " False,\n",
       " {'fraction_allowed_actions': 0.70363224,\n",
       "  'allowed_interval_length': 28.14529,\n",
       "  'number_intervals': 2,\n",
       "  'interval_avg': 14.07264518737793,\n",
       "  'interval_min': 9.072645,\n",
       "  'interval_max': 19.072645,\n",
       "  'interval_variance': 25.0,\n",
       "  'invalid': False,\n",
       "  'atomic_action': [20.0]})"
      ]
     },
     "execution_count": 20,
     "metadata": {},
     "output_type": "execute_result"
    }
   ],
   "source": [
    "env.step(4)"
   ]
  },
  {
   "cell_type": "markdown",
   "metadata": {},
   "source": [
    "### Parametrized Discretization"
   ]
  },
  {
   "cell_type": "code",
   "execution_count": 21,
   "metadata": {},
   "outputs": [],
   "source": [
    "env = ParametrizedDiscretizationWrapper(OilField(env_config), 9)"
   ]
  },
  {
   "cell_type": "code",
   "execution_count": 22,
   "metadata": {},
   "outputs": [
    {
     "data": {
      "text/plain": [
       "{'observation': {'effectiveness': array([0.9077971], dtype=float32),\n",
       "  'duration': 4,\n",
       "  'length': array([3.5186286], dtype=float32)},\n",
       " 'allowed_actions': array([0., 1., 1., 1., 1., 1., 1., 1., 0.])}"
      ]
     },
     "execution_count": 22,
     "metadata": {},
     "output_type": "execute_result"
    }
   ],
   "source": [
    "env.reset()"
   ]
  },
  {
   "cell_type": "code",
   "execution_count": 23,
   "metadata": {},
   "outputs": [
    {
     "data": {
      "text/plain": [
       "({'observation': {'effectiveness': array([0.9116158], dtype=float32),\n",
       "   'duration': 2,\n",
       "   'length': array([2.9137537], dtype=float32)},\n",
       "  'allowed_actions': array([0., 1., 1., 1., 1., 0., 0., 0., 0.])},\n",
       " 1.0752163814665883,\n",
       " False,\n",
       " {'fraction_allowed_actions': array([0.9120342], dtype=float32),\n",
       "  'allowed_interval_length': 36.48137,\n",
       "  'number_intervals': 1,\n",
       "  'interval_avg': 36.48136901855469,\n",
       "  'interval_min': 36.48137,\n",
       "  'interval_max': 36.48137,\n",
       "  'interval_variance': 0.0,\n",
       "  'invalid': False})"
      ]
     },
     "execution_count": 23,
     "metadata": {},
     "output_type": "execute_result"
    }
   ],
   "source": [
    "env.step([28.61])"
   ]
  },
  {
   "cell_type": "code",
   "execution_count": 24,
   "metadata": {},
   "outputs": [
    {
     "data": {
      "text/plain": [
       "({'observation': {'effectiveness': array([1.2406287], dtype=float32),\n",
       "   'duration': 1,\n",
       "   'length': array([3.3321443], dtype=float32)},\n",
       "  'allowed_actions': array([0., 1., 0., 0., 1., 0., 0., 0., 0.])},\n",
       " 0.42905687725091135,\n",
       " False,\n",
       " {'fraction_allowed_actions': array([0.7663466], dtype=float32),\n",
       "  'allowed_interval_length': 30.653862,\n",
       "  'number_intervals': 2,\n",
       "  'interval_avg': 15.32693099975586,\n",
       "  'interval_min': 6.7169304,\n",
       "  'interval_max': 23.936932,\n",
       "  'interval_variance': 74.13211,\n",
       "  'invalid': False})"
      ]
     },
     "execution_count": 24,
     "metadata": {},
     "output_type": "execute_result"
    }
   ],
   "source": [
    "env.step([12.5])"
   ]
  },
  {
   "cell_type": "markdown",
   "metadata": {},
   "source": [
    "### Continuous Action Masking"
   ]
  },
  {
   "cell_type": "code",
   "execution_count": 25,
   "metadata": {},
   "outputs": [],
   "source": [
    "env = ContinuousMaskingWrapper(OilField(env_config))"
   ]
  },
  {
   "cell_type": "code",
   "execution_count": 26,
   "metadata": {},
   "outputs": [
    {
     "data": {
      "text/plain": [
       "{'observation': {'effectiveness': array([1.0422693], dtype=float32),\n",
       "  'duration': 2,\n",
       "  'length': array([3.2395933], dtype=float32)},\n",
       " 'allowed_actions': array([[ 1.6197966, 38.380203 ]], dtype=float32)}"
      ]
     },
     "execution_count": 26,
     "metadata": {},
     "output_type": "execute_result"
    }
   ],
   "source": [
    "env.reset()"
   ]
  },
  {
   "cell_type": "code",
   "execution_count": 27,
   "metadata": {},
   "outputs": [
    {
     "data": {
      "text/plain": [
       "({'observation': {'effectiveness': array([1.1286398], dtype=float32),\n",
       "   'duration': 4,\n",
       "   'length': array([2.6818686], dtype=float32)},\n",
       "  'allowed_actions': array([[ 5.499538, 38.659065]], dtype=float32)},\n",
       " -1.1564225538015311,\n",
       " False,\n",
       " {'fraction_allowed_actions': 0.91901016,\n",
       "  'allowed_interval_length': 36.760406,\n",
       "  'number_intervals': 1,\n",
       "  'interval_avg': 36.760406494140625,\n",
       "  'interval_min': 36.760406,\n",
       "  'interval_max': 36.760406,\n",
       "  'interval_variance': 0.0,\n",
       "  'Executed': array([2.5388068]),\n",
       "  'invalid': False})"
      ]
     },
     "execution_count": 27,
     "metadata": {},
     "output_type": "execute_result"
    }
   ],
   "source": [
    "env.step([1.0])"
   ]
  },
  {
   "cell_type": "code",
   "execution_count": 28,
   "metadata": {},
   "outputs": [
    {
     "data": {
      "text/plain": [
       "({'observation': {'effectiveness': array([1.4951355], dtype=float32),\n",
       "   'duration': 5,\n",
       "   'length': array([2.571849], dtype=float32)},\n",
       "  'allowed_actions': array([[ 1.2859246, 35.20322  ]], dtype=float32)},\n",
       " 0.20850990220575127,\n",
       " False,\n",
       " {'fraction_allowed_actions': 0.8289882,\n",
       "  'allowed_interval_length': 33.159527,\n",
       "  'number_intervals': 1,\n",
       "  'interval_avg': 33.15952682495117,\n",
       "  'interval_min': 33.159527,\n",
       "  'interval_max': 33.159527,\n",
       "  'interval_variance': 0.0,\n",
       "  'Executed': array([37.83007753]),\n",
       "  'invalid': False})"
      ]
     },
     "execution_count": 28,
     "metadata": {},
     "output_type": "execute_result"
    }
   ],
   "source": [
    "env.step([39.0])"
   ]
  },
  {
   "cell_type": "code",
   "execution_count": null,
   "metadata": {},
   "outputs": [],
   "source": []
  }
 ],
 "metadata": {
  "kernelspec": {
   "display_name": "Python 3 (ipykernel)",
   "language": "python",
   "name": "python3"
  },
  "language_info": {
   "codemirror_mode": {
    "name": "ipython",
    "version": 3
   },
   "file_extension": ".py",
   "mimetype": "text/x-python",
   "name": "python",
   "nbconvert_exporter": "python",
   "pygments_lexer": "ipython3",
   "version": "3.8.13"
  }
 },
 "nbformat": 4,
 "nbformat_minor": 1
}
